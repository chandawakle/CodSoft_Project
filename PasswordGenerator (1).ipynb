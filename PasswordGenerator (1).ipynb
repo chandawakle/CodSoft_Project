{
 "cells": [
  {
   "cell_type": "markdown",
   "id": "9fec8864",
   "metadata": {},
   "source": [
    "\n",
    "<img src=\"password.png\">"
   ]
  },
  {
   "cell_type": "code",
   "execution_count": 1,
   "id": "4568377d",
   "metadata": {},
   "outputs": [],
   "source": [
    "from tkinter import*\n",
    "from tkinter import ttk\n",
    "import random \n",
    "import string\n",
    "\n",
    "\n",
    "\n",
    "def generate():\n",
    "    password.set(\"\".join(random.choices(data,k=int(n.get()))))\n",
    "    \n",
    "window=Tk()\n",
    "window.geometry('500x450+500+200')\n",
    "window.title(\" simple password generator \")\n",
    "\n",
    "n=StringVar()\n",
    "password=StringVar()\n",
    "data='!@#$%^&*()' + string.ascii_letters+string.digits\n",
    "\n",
    "ttk.Label(window, text=\"Length:\",).grid(column=3,row=0,pady=10)\n",
    "\n",
    "combo=ttk.Combobox(window,width=8,height=10, textvariable=n)\n",
    "\n",
    "combo['values']=[i for i in range(6,21)]\n",
    "combo.grid(column=6, row=0, pady=15)\n",
    "\n",
    "ttk.Button(window,text=\"Generate\",command=generate,width=25).grid(row=1,column=6,padx=10,pady=20)\n",
    "\n",
    "\n",
    "ttk.Entry(window,textvariable=password,width=21).grid(row=3, column=6, padx=5,pady=10)\n",
    "\n",
    "window.mainloop()\n",
    "\n"
   ]
  },
  {
   "cell_type": "code",
   "execution_count": null,
   "id": "f20cb4cd",
   "metadata": {},
   "outputs": [],
   "source": []
  },
  {
   "cell_type": "code",
   "execution_count": null,
   "id": "5f7bff40",
   "metadata": {},
   "outputs": [],
   "source": []
  }
 ],
 "metadata": {
  "kernelspec": {
   "display_name": "Python 3 (ipykernel)",
   "language": "python",
   "name": "python3"
  },
  "language_info": {
   "codemirror_mode": {
    "name": "ipython",
    "version": 3
   },
   "file_extension": ".py",
   "mimetype": "text/x-python",
   "name": "python",
   "nbconvert_exporter": "python",
   "pygments_lexer": "ipython3",
   "version": "3.10.9"
  }
 },
 "nbformat": 4,
 "nbformat_minor": 5
}
